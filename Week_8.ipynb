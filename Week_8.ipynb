{
 "cells": [
  {
   "cell_type": "markdown",
   "metadata": {},
   "source": [
    "# Week 8 hand in"
   ]
  },
  {
   "cell_type": "markdown",
   "metadata": {},
   "source": [
    "## 01 Assignment\n",
    "\n",
    "\n",
    "##     Exercise 1\n",
    "    1. Go to this website: \n",
    "    https://www.komplett.dk/category/21064/mobil/mobiltelefoner\n",
    "    2. Use BeautifulSoup, to select the name and price for the cellphones (hint: look for class=\"product-price\" to begin with).\n",
    "    3. Create a mysql table called cellphones, with columns id, name, price.\n",
    "    4. Insert the cellphone data into the cellphones table, using a mysql connector and cursor.\n",
    "\n",
    "##     Exercise 2\n",
    "    1. Create a restful webservice that can respond to the following requests, by collecting/adding data from the cellphones table:\n",
    "    Method\tURL\tResponse\tDescription\n",
    "    GET\t/api/cellphones/all\t[{\"id\":1, \"name\":\"Samsung Galaxy S20\", \"price\":5999},{},{}...]\tReturns all the cellphone objects from the database\n",
    "    POST\t/api/cellphones\tPOST json: {\"name\":\"One Plus\", \"price\":12345}\tAdds a new cellphone object to the database\n",
    "\n",
    "##    Exercise 3\n",
    "    1. Select the data from the endpoints, using a request object.\n",
    "    2. Make a sorted bar chart of the cellphones, where x-axis is names, and y-axis is price."
   ]
  },
  {
   "cell_type": "markdown",
   "metadata": {},
   "source": [
    "## 02 Status\n",
    "    Ex1: \n",
    "        Task : completed\n",
    "        Task 1, 2, 3, 4: not completed\n",
    "        \n",
    "        \n",
    "    Ex2: \n",
    "        Task : completed\n",
    "        Task 1 : not completed\n",
    "        \n",
    "        \n",
    "    Ex2: \n",
    "        Task : completed\n",
    "        Task 1, 2 : not completed\n",
    "        \n",
    "        "
   ]
  },
  {
   "cell_type": "markdown",
   "metadata": {},
   "source": [
    "## 03 Solution part 1\n",
    "\n",
    "1. Go to this website: \n",
    "https://www.komplett.dk/category/21064/mobil/mobiltelefoner\n",
    "2. Use BeautifulSoup, to select the name and price for the cellphones (hint: look for class=\"product-price\" to begin with).\n",
    "3. Create a mysql table called cellphones, with columns id, name, price.\n",
    "4. Insert the cellphone data into the cellphones table, using a mysql connector and cursor."
   ]
  },
  {
   "cell_type": "code",
   "execution_count": 1,
   "metadata": {},
   "outputs": [
    {
     "name": "stdout",
     "output_type": "stream",
     "text": [
      "171\n",
      "done\n",
      "[{'price': -1, 'name': 'undefined'}, {'price': -1, 'name': 'undefined'}, {'price': 5999, 'name': 'Samsung Galaxy S20 FE 5G 128GB Marineblå'}, {'price': 3689, 'name': 'Samsung Galaxy A71 128 GB Blå'}, {'price': 3299, 'name': 'OnePlus Nord 8+128GB Blue Marble'}, {'price': 5289, 'name': 'iPhone 11 64GB Sort'}, {'price': 6699, 'name': 'iPhone 12 mini 128GB Blå'}, {'price': 6689, 'name': 'iPhone 11 256GB Lilla'}, {'price': 189, 'name': 'Nokia 105 Sort'}, {'price': 1399, 'name': 'Galaxy A21s 3+32GB Hvid'}, {'price': 5199, 'name': 'Samsung Galaxy S20 FE 4G 128GB Marineblå'}, {'price': 9699, 'name': 'iPhone 12 Pro Max 128GB Silver'}, {'price': 4199, 'name': 'iPhone\\xa0SE 128GB (PRODUCT)RED'}, {'price': 5999, 'name': 'Samsung Galaxy S20 FE 5G 128GB Grøn'}, {'price': 9799, 'name': 'iPhone 12 Pro 256GB Pacific Blue'}, {'price': 5999, 'name': 'OnePlus 8 Pro 8GB+128GB Onyx Black'}, {'price': 2149, 'name': 'Samsung Galaxy Xcover 4s 32 GB Sort - Enterprise'}, {'price': 5199, 'name': 'Samsung Galaxy S20 FE 4G 128GB Rød'}, {'price': 3999, 'name': 'Samsung Galaxy Xcover Pro 64 GB Sort'}, {'price': 5999, 'name': 'Samsung Galaxy S10 128GB Sort'}, {'price': 1149, 'name': 'Huawei Y6 (2019) 32 GB Sort'}, {'price': 4499, 'name': 'NOKIA 8.3 5G 64GB Blå'}, {'price': 389, 'name': 'Nokia 220 4G Sort'}, {'price': 3299, 'name': 'OnePlus Nord 8+128GB Gray Onyx'}, {'price': 1499, 'name': 'Huawei P40 Lite E 4+64GB Black'}, {'price': 3899, 'name': 'OnePlus Nord 12+256GB Gray Onyx'}, {'price': 2299, 'name': 'Huawei P40 Lite 6+128GB Midnight Black'}, {'price': 1249, 'name': 'Huawei P Smart 2021 128GB Midnight Black'}, {'price': 3399, 'name': 'Samsung Galaxy A72 128 GB Awesome Black'}, {'price': 2789, 'name': 'Samsung Galaxy A51 128GB Hvid'}, {'price': 6199, 'name': 'iPhone 12 mini 64GB Sort'}, {'price': 5789, 'name': 'iPhone 11 128GB (PRODUCT)RED'}, {'price': 3199, 'name': 'Samsung Galaxy A52 5G 128 GB Awesome Black'}, {'price': 2499, 'name': 'OnePlus Nord N10 128GB Midnight Ice\\u200b 5G'}, {'price': 5289, 'name': 'iPhone 11 64GB Hvid'}, {'price': 5789, 'name': 'iPhone 11 128GB Sort'}, {'price': 3699, 'name': 'iPhone\\xa0SE 64GB Hvid'}, {'price': 3699, 'name': 'iPhone\\xa0SE 64GB Black'}, {'price': 8499, 'name': 'Samsung Galaxy S20 Plus 5G 128GB Grå'}, {'price': 5999, 'name': 'Huawei P40 8+128GB Silver Frost'}, {'price': 6499, 'name': 'OnePlus 8 Pro 12GB+256GB Glacial Green'}, {'price': 6799, 'name': 'Samsung Galaxy S10+ (128GB) Ceramic White'}, {'price': 5299, 'name': 'iPhone SE 256GB Hvid'}, {'price': 8299, 'name': 'Samsung Galaxy Note20 5G 256GB Mystic Bronze'}, {'price': 1829, 'name': 'Realme 6 Kometblå 4GB+64GB'}, {'price': 5199, 'name': 'Samsung Galaxy S20 FE 4G 128GB Lavendel'}, {'price': 5999, 'name': 'Samsung Galaxy S20 FE 5G 128GB Rød'}, {'price': 5199, 'name': 'Samsung Galaxy S20 FE 4G 128GB Grøn'}, {'price': 6499, 'name': 'Xperia 5 II 5G Grå'}, {'price': 2699, 'name': 'Galaxy A42 128GB 5G Hvid'}, {'price': 11599, 'name': 'iPhone 12 Pro 512GB Pacific Blue'}, {'price': 11599, 'name': 'iPhone 12 Pro 512GB Graphite'}, {'price': 11599, 'name': 'iPhone 12 Pro 512GB Silver'}, {'price': 9799, 'name': 'iPhone 12 Pro 256GB Gold'}, {'price': 9799, 'name': 'iPhone 12 Pro 256GB Silver'}, {'price': 8399, 'name': 'iPhone 12 256GB Grøn'}, {'price': 6999, 'name': 'iPhone 12 64GB (PRODUCT)RED'}, {'price': 10599, 'name': 'iPhone 12 Pro Max 256GB Silver'}, {'price': 6999, 'name': 'iPhone 12 64GB Grøn'}, {'price': 8399, 'name': 'iPhone 12 256GB Blå'}, {'price': 7499, 'name': 'iPhone 12 128GB (PRODUCT)RED'}, {'price': 6699, 'name': 'iPhone 12 mini 128GB (PRODUCT)RED'}, {'price': 6199, 'name': 'iPhone 12 mini 64GB Grøn'}, {'price': 6699, 'name': 'iPhone 12 mini 128GB Grøn'}, {'price': 6699, 'name': 'iPhone 12 mini 128GB Hvid'}, {'price': 7599, 'name': 'iPhone 12 mini 256GB (PRODUCT)RED'}, {'price': 5099, 'name': 'iPhone\\xa0SE 256GB Black'}, {'price': 4199, 'name': 'iPhone\\xa0SE 128GB White'}, {'price': 5289, 'name': 'iPhone 11 64GB Lilla'}, {'price': 6689, 'name': 'iPhone 11 256GB (PRODUCT)RED'}, {'price': 6689, 'name': 'iPhone 11 256GB Sort'}, {'price': 12599, 'name': 'iPhone 12 Pro Max 512GB Silver'}, {'price': 8199, 'name': 'Samsung Galaxy S21 Plus 5G 128GB Phantom Silver'}, {'price': 1199, 'name': 'Samsung Galaxy A02s 32GB Sort'}, {'price': 1399, 'name': 'Samsung Galaxy A12 64GB Hvid'}, {'price': 499, 'name': 'Nokia 6300 4G grå'}, {'price': 1299, 'name': 'Nokia 3.4 32GB Grå'}, {'price': 1299, 'name': 'Nokia 3.4 32GB Blå'}, {'price': 999, 'name': 'Nokia 2.4 32GB Grå'}, {'price': 1599, 'name': 'Nokia 5.4 64GB Blå'}, {'price': 1299, 'name': 'Xiaomi Redmi 9 4+64 GB Ocean Green'}, {'price': 1299, 'name': 'Xiaomi Redmi 9 4+64 GB Sunset Purple'}, {'price': 6999, 'name': 'Asus ROG Phone 5 12GB+256GB'}, {'price': 7699, 'name': 'Asus ROG Phone 5 16GB+256GB'}, {'price': 749, 'name': 'Nokia 2720 32GB Sort'}, {'price': 1777, 'name': 'Motorola Moto G8 Power 4+64GB  Sort'}, {'price': 2599, 'name': 'Motorola Moto G Pro 4+128 GB Blå'}, {'price': 1289, 'name': 'Huawei Y6P 3+64GB Midnight Black'}, {'price': 2699, 'name': 'Galaxy A42 5G 128GB Grå'}, {'price': 1399, 'name': 'Samsung Galaxy A12 64GB Blå'}, {'price': 15799, 'name': 'Galaxy Z Fold 2 5G 256GB Mystic Bronze'}, {'price': 10599, 'name': 'iPhone 12 Pro Max 256GB Pacific Blue'}, {'price': 6199, 'name': 'iPhone 12 mini 64GB Blå'}, {'price': 1199, 'name': 'Samsung Galaxy A02s 32GB Hvid'}, {'price': 7599, 'name': 'iPhone 12 mini 256GB Grøn'}, {'price': 9699, 'name': 'iPhone 12 Pro Max 128GB Graphite'}, {'price': 8899, 'name': 'iPhone 12 Pro 128GB Pacific Blue'}, {'price': 6699, 'name': 'iPhone 12 mini 128GB Sort'}, {'price': 9699, 'name': 'iPhone 12 Pro Max 128GB Pacific Blue'}, {'price': 1399, 'name': 'OnePlus Nord N100 4+64GB Midnight Frost'}, {'price': 5999, 'name': 'Samsung Galaxy S20 FE 5G 128GB Lavendel'}, {'price': 9799, 'name': 'iPhone 12 Pro 256GB Graphite'}, {'price': 5289, 'name': 'iPhone 11 64GB (PRODUCT)RED'}, {'price': 2299, 'name': 'Samsung Galaxy A41 64GB Blå'}, {'price': 5789, 'name': 'iPhone 11 128GB Gul'}, {'price': 9799, 'name': 'Samsung Galaxy S21 Ultra 5G 128GB Phantom Silver'}, {'price': 1299, 'name': 'Xiaomi Redmi 9 4+64 GB Carbon Grey'}, {'price': 1799, 'name': 'Sony Xperia L4 64GB Sort'}, {'price': 8899, 'name': 'iPhone 12 Pro 128GB Silver'}, {'price': 1799, 'name': 'Sony Xperia L4 64GB Sort'}, {'price': 1399, 'name': 'Samsung Galaxy A12 64GB Sort'}, {'price': 10999, 'name': 'Samsung Galaxy S21 Ultra 5G 512GB Phantom Black'}, {'price': 10199, 'name': 'Samsung Galaxy S21 Ultra 5G 256GB Phantom Silver'}, {'price': 5499, 'name': 'OnePlus 9  8+128GB Arctic Sky med OnePlus Buds Z'}, {'price': 6999, 'name': 'OnePlus 9 Pro 8+128GB Stellar Black med OnePlus Buds'}, {'price': 6999, 'name': 'OnePlus 9 Pro 8+128GB Pine Green med OnePlus Buds'}, {'price': 2699, 'name': 'Galaxy A42 128GB 5G Sort'}, {'price': 5289, 'name': 'iPhone 11 64GB Gul'}, {'price': 5789, 'name': 'iPhone 11 128GB Grøn'}, {'price': 6689, 'name': 'iPhone 11 256GB Green'}, {'price': 8599, 'name': 'Samsung Galaxy S21 Plus 5G 256GB Phantom Violet'}, {'price': 6599, 'name': 'Samsung Galaxy S21 5G 128GB Phantom White'}, {'price': 2599, 'name': 'Samsung Galaxy A52 128 GB Awesome Violet'}, {'price': 7099, 'name': 'Samsung Galaxy S21 5G 256GB Phantom Violet'}, {'price': 6999, 'name': 'OnePlus 9 Pro 8+128GB Morning Mist med OnePlus Buds'}, {'price': 6499, 'name': 'Xperia 5 II 5G Sort'}, {'price': 10599, 'name': 'iPhone 12 Pro Max 256GB Gold'}, {'price': 8899, 'name': 'iPhone 12 Pro 128GB Gold'}, {'price': 6999, 'name': 'iPhone 12 64GB Blå'}, {'price': 8399, 'name': 'iPhone 12 256GB Hvid'}, {'price': 8490, 'name': 'Samsung Galaxy S20 Plus 5G 128GB Sort Enterprise Edition'}, {'price': 4899, 'name': 'iPhone XR 128GB Coral'}, {'price': 1790, 'name': 'Xiaomi RedMi Note 9 GB White'}, {'price': 7999, 'name': 'OnePlus 9 Pro 12+256GB Pine Green med OnePlus Buds'}, {'price': 11599, 'name': 'iPhone 12 Pro 512GB Gold'}, {'price': 12599, 'name': 'iPhone 12 Pro Max 512GB Graphite'}, {'price': 7599, 'name': 'iPhone 12 mini 256GB Hvid'}, {'price': 12599, 'name': 'iPhone 12 Pro Max 512GB Pacific Blue'}, {'price': 6199, 'name': 'iPhone 12 mini 64GB (PRODUCT)RED'}, {'price': 7499, 'name': 'iPhone 12 128GB Blå'}, {'price': 7599, 'name': 'iPhone 12 mini 256GB Blå'}, {'price': 12599, 'name': 'iPhone 12 Pro Max 512GB Gold'}, {'price': 8399, 'name': 'iPhone 12 256GB Sort'}, {'price': 6999, 'name': 'iPhone 12 64GB Hvid'}, {'price': 6199, 'name': 'iPhone 12 mini 64GB Hvid'}, {'price': 7599, 'name': 'iPhone 12 mini 256GB Sort'}, {'price': 10599, 'name': 'iPhone 12 Pro Max 256GB Graphite'}, {'price': 7499, 'name': 'iPhone 12 128GB Grøn'}, {'price': 7499, 'name': 'iPhone 12 128GB Hvid'}, {'price': 8399, 'name': 'iPhone 12 256GB (PRODUCT)RED'}, {'price': 6999, 'name': 'iPhone 12 64GB Sort'}, {'price': 8899, 'name': 'iPhone 12 Pro 128GB Graphite'}, {'price': 4199, 'name': 'iPhone\\xa0SE 128GB Sort'}, {'price': 4899, 'name': 'iPhone XR 128GB Hvid'}, {'price': 4899, 'name': 'iPhone XR 128GB Gul'}, {'price': 4389, 'name': 'iPhone XR 64GB Blå'}, {'price': 4389, 'name': 'iPhone XR 64GB Gul'}, {'price': 4389, 'name': 'iPhone XR 64GB Hvid'}, {'price': 4899, 'name': 'iPhone XR 128GB Blå'}, {'price': 4389, 'name': 'iPhone XR 64GB Coral'}, {'price': 4899, 'name': 'iPhone XR 128GB (PRODUCT)RED'}, {'price': 4389, 'name': 'iPhone XR 64GB (PRODUCT)RED'}, {'price': 699, 'name': 'Nokia 8000 4G Sort'}, {'price': 2499, 'name': 'Xiaomi RedMi Note 9 Pro GB Green'}, {'price': 1790, 'name': 'Xiaomi RedMi Note 9 Green'}, {'price': 1790, 'name': 'Xiaomi RedMi Note 9 GB Grey'}, {'price': 2499, 'name': 'Xiaomi RedMi Note 9 Pro GB Grey'}, {'price': 4389, 'name': 'iPhone XR 64GB Sort'}, {'price': 4899, 'name': 'iPhone XR 128GB Sort'}, {'price': 9699, 'name': 'iPhone 12 Pro Max 128GB Gold'}, {'price': 7499, 'name': 'iPhone 12 128GB Sort'}]\n"
     ]
    }
   ],
   "source": [
    "import bs4\n",
    "from time import sleep\n",
    "from selenium import webdriver\n",
    "from selenium.webdriver.common.keys import Keys\n",
    "from selenium.webdriver.firefox.options import Options\n",
    "from selenium import webdriver\n",
    "from selenium.webdriver.common.by import By\n",
    "from selenium.webdriver.support.ui import WebDriverWait\n",
    "from selenium.webdriver.support import expected_conditions as EC\n",
    "import requests\n",
    "\n",
    "\n",
    "\n",
    "base_url = 'https://www.komplett.dk/category/21064/mobil/mobiltelefoner'\n",
    "profile = webdriver.FirefoxProfile()\n",
    "profile.set_preference(\"general.useragent.override\", \"Mozilla/5.0 (X11; Ubuntu; Linux x86_64; rv:81.0) Gecko/20100101 Firefox/81.0\")\n",
    "\n",
    "# headless would be needed here if we did not have a GUI version of firefox\n",
    "options = Options()\n",
    "options.headless = True\n",
    "# driver = webdriver.Firefox(options=options, executable_path=r'/tmp/geckodriver')\n",
    "browser = webdriver.Firefox(options=options)\n",
    "\n",
    "browser.get(base_url)\n",
    "browser.implicitly_wait(3)\n",
    "\n",
    "cellphones=[]\n",
    "\n",
    "\n",
    "def get_cellphones():\n",
    "    ''' clicks on cookie buttons and reads all product elements'''\n",
    "        \n",
    "    '''Pagaes loads dynamicly, so ve should scrall to the bottom and read current url insted of using the one belov (?)'''\n",
    "    \n",
    "    \n",
    "    url='https://www.komplett.dk/category/21064/mobil/?nlevel=10444%C2%A721064&hits=192'\n",
    "    try:\n",
    "        cookie_button = browser.find_element_by_css_selector('button.btn-large.primary')\n",
    "        #print('Cookie Button', cookie_button)\n",
    "        try:\n",
    "            cookie_button.click()\n",
    "            sleep(3)\n",
    "        except Exception as ex:\n",
    "            print(ex)\n",
    "    except Exception as e:\n",
    "        print('BUTTON EXCEPTION',e) \n",
    "      \n",
    "    \n",
    "    #span.product-price-now\n",
    "        \n",
    "    r = requests.get(url)\n",
    "    r.raise_for_status()\n",
    "    soup = bs4.BeautifulSoup(r.text, 'html.parser')   \n",
    "\n",
    "    results=soup.select('.content-block')\n",
    "    print(len(results))\n",
    "    \n",
    "    for mobile in results:\n",
    "        read_mobile_details(mobile)\n",
    "    \n",
    "    #print(cellphones)\n",
    "    \n",
    "    \n",
    "    \n",
    "def read_mobile_details(mobile):\n",
    "    cell_phone={}\n",
    "  \n",
    "    price=mobile.select('.product-price-now')\n",
    "    price_string=\"\"\n",
    "    \n",
    "    for p in price:\n",
    "        price_string=p.get_text()\n",
    "        \n",
    "    clean_price_str=price_string.split(',')[0].replace('.','').strip()\n",
    "   \n",
    "    p_list=list(clean_price_str)\n",
    "    price_final=-1\n",
    "    \n",
    "    if (clean_price_str != \"\"):\n",
    "        price_final=int(clean_price_str)\n",
    "        \n",
    "        \n",
    "    cell_phone['price']=int(price_final)\n",
    "    \n",
    "    _name=\"undefined\"\n",
    "    name=mobile.select('.text-content > h2')\n",
    "    for n in name:\n",
    "        _name=n.get_text()\n",
    "    \n",
    "    \n",
    "    cell_phone['name']=_name\n",
    "    \n",
    "    \n",
    "    \n",
    "    cellphones.append(cell_phone)\n",
    "\n",
    " \n",
    "                            \n",
    "get_cellphones()      \n",
    "print(\"done\")\n",
    "print(cellphones)\n"
   ]
  },
  {
   "cell_type": "code",
   "execution_count": 2,
   "metadata": {},
   "outputs": [],
   "source": [
    "# dataframe to table\n",
    "import pandas as pd \n",
    "from sqlalchemy import create_engine #sqlalchemy helped convert strings to dates seamlessly\n",
    "\n",
    "#cnx = pymysql.connect(user='dev', password='ax2',host='127.0.0.1',port=3307,db='test') \n",
    "con_str = \"mysql+mysqlconnector://root:root@db/db\"\n",
    "engine = create_engine(con_str)\n",
    "#connection = engine.raw_connection()\n",
    "df = pd.DataFrame(cellphones)\n",
    "df = df.applymap(str)#every valu to String\n",
    "df.to_sql('cellphones',con=engine, if_exists='append', index = True)\n"
   ]
  },
  {
   "cell_type": "code",
   "execution_count": 3,
   "metadata": {},
   "outputs": [
    {
     "name": "stdout",
     "output_type": "stream",
     "text": [
      "done\n"
     ]
    }
   ],
   "source": [
    "#from decimal import Decimal\n",
    "\n",
    "\n",
    "# Connect with the MySQL Server\n",
    "import mysql.connector as mysql\n",
    "\n",
    "## connecting to the database using 'connect()' method\n",
    "cnx = mysql.connect(host = \"db\", user = \"root\", passwd = \"root\", db = \"db\")\n",
    "\n",
    "cursor = cnx.cursor()\n",
    "drop_query=('DROP TABLE IF EXISTS cell_cursor;')\n",
    "table_query='create table cell_cursor( cell_id int not null auto_increment, name varchar(100) not null, price int, primary key(cell_id));'\n",
    "\n",
    "cursor.execute(drop_query)\n",
    "\n",
    "cursor.execute(table_query)\n",
    "\n",
    "## optimere med at lave multi-insert istedet for loop\n",
    "insert_query='INSERT INTO cell_cursor VALUES(%(cell_id)s,%(name)s,%(price)s)'\n",
    "for c in cellphones:\n",
    "    c['cell_id']=None\n",
    "    cursor.execute(insert_query,c)\n",
    "\n",
    "    \n",
    "# Commit the changes\n",
    "cnx.commit()\n",
    "cursor.close()\n",
    "cnx.close()\n",
    "    \n",
    "print('done')\n",
    "\n",
    "\n"
   ]
  },
  {
   "cell_type": "markdown",
   "metadata": {},
   "source": [
    "## 04 Solution part 2\n",
    "    Use the extracted data to calculate the following: \n",
    "        Calculate the average sales price for the seleted area \n",
    "        Calculate the average size of the selected properties\n",
    "    Make a bar plot that shows the number of houses for sale in the three following price ranges: 0 - 2.000.000 2.000.001 - 5.000.000 < 5.000.001"
   ]
  },
  {
   "cell_type": "code",
   "execution_count": 4,
   "metadata": {},
   "outputs": [
    {
     "ename": "FileNotFoundError",
     "evalue": "[Errno 2] File ./data/edc_properties.csv does not exist: './data/edc_properties.csv'",
     "output_type": "error",
     "traceback": [
      "\u001b[0;31m---------------------------------------------------------------------------\u001b[0m",
      "\u001b[0;31mFileNotFoundError\u001b[0m                         Traceback (most recent call last)",
      "\u001b[0;32m<ipython-input-4-a46e4a793528>\u001b[0m in \u001b[0;36m<module>\u001b[0;34m\u001b[0m\n\u001b[1;32m      4\u001b[0m \u001b[0;34m\u001b[0m\u001b[0m\n\u001b[1;32m      5\u001b[0m \u001b[0mfilename\u001b[0m\u001b[0;34m=\u001b[0m\u001b[0;34m'./data/edc_properties.csv'\u001b[0m\u001b[0;34m\u001b[0m\u001b[0;34m\u001b[0m\u001b[0m\n\u001b[0;32m----> 6\u001b[0;31m \u001b[0medc\u001b[0m \u001b[0;34m=\u001b[0m \u001b[0mpd\u001b[0m\u001b[0;34m.\u001b[0m\u001b[0mread_csv\u001b[0m\u001b[0;34m(\u001b[0m\u001b[0mfilename\u001b[0m\u001b[0;34m,\u001b[0m \u001b[0msep\u001b[0m\u001b[0;34m=\u001b[0m\u001b[0;34m\",\"\u001b[0m\u001b[0;34m)\u001b[0m\u001b[0;34m\u001b[0m\u001b[0;34m\u001b[0m\u001b[0m\n\u001b[0m\u001b[1;32m      7\u001b[0m \u001b[0;34m\u001b[0m\u001b[0m\n\u001b[1;32m      8\u001b[0m \u001b[0mavarage_price\u001b[0m\u001b[0;34m=\u001b[0m\u001b[0msum\u001b[0m\u001b[0;34m(\u001b[0m\u001b[0medc\u001b[0m\u001b[0;34m[\u001b[0m\u001b[0;34m'price'\u001b[0m\u001b[0;34m]\u001b[0m\u001b[0;34m)\u001b[0m\u001b[0;34m/\u001b[0m\u001b[0mlen\u001b[0m\u001b[0;34m(\u001b[0m\u001b[0medc\u001b[0m\u001b[0;34m[\u001b[0m\u001b[0;34m'price'\u001b[0m\u001b[0;34m]\u001b[0m\u001b[0;34m)\u001b[0m\u001b[0;34m\u001b[0m\u001b[0;34m\u001b[0m\u001b[0m\n",
      "\u001b[0;32m/opt/conda/lib/python3.7/site-packages/pandas/io/parsers.py\u001b[0m in \u001b[0;36mparser_f\u001b[0;34m(filepath_or_buffer, sep, delimiter, header, names, index_col, usecols, squeeze, prefix, mangle_dupe_cols, dtype, engine, converters, true_values, false_values, skipinitialspace, skiprows, skipfooter, nrows, na_values, keep_default_na, na_filter, verbose, skip_blank_lines, parse_dates, infer_datetime_format, keep_date_col, date_parser, dayfirst, cache_dates, iterator, chunksize, compression, thousands, decimal, lineterminator, quotechar, quoting, doublequote, escapechar, comment, encoding, dialect, error_bad_lines, warn_bad_lines, delim_whitespace, low_memory, memory_map, float_precision)\u001b[0m\n\u001b[1;32m    674\u001b[0m         )\n\u001b[1;32m    675\u001b[0m \u001b[0;34m\u001b[0m\u001b[0m\n\u001b[0;32m--> 676\u001b[0;31m         \u001b[0;32mreturn\u001b[0m \u001b[0m_read\u001b[0m\u001b[0;34m(\u001b[0m\u001b[0mfilepath_or_buffer\u001b[0m\u001b[0;34m,\u001b[0m \u001b[0mkwds\u001b[0m\u001b[0;34m)\u001b[0m\u001b[0;34m\u001b[0m\u001b[0;34m\u001b[0m\u001b[0m\n\u001b[0m\u001b[1;32m    677\u001b[0m \u001b[0;34m\u001b[0m\u001b[0m\n\u001b[1;32m    678\u001b[0m     \u001b[0mparser_f\u001b[0m\u001b[0;34m.\u001b[0m\u001b[0m__name__\u001b[0m \u001b[0;34m=\u001b[0m \u001b[0mname\u001b[0m\u001b[0;34m\u001b[0m\u001b[0;34m\u001b[0m\u001b[0m\n",
      "\u001b[0;32m/opt/conda/lib/python3.7/site-packages/pandas/io/parsers.py\u001b[0m in \u001b[0;36m_read\u001b[0;34m(filepath_or_buffer, kwds)\u001b[0m\n\u001b[1;32m    446\u001b[0m \u001b[0;34m\u001b[0m\u001b[0m\n\u001b[1;32m    447\u001b[0m     \u001b[0;31m# Create the parser.\u001b[0m\u001b[0;34m\u001b[0m\u001b[0;34m\u001b[0m\u001b[0;34m\u001b[0m\u001b[0m\n\u001b[0;32m--> 448\u001b[0;31m     \u001b[0mparser\u001b[0m \u001b[0;34m=\u001b[0m \u001b[0mTextFileReader\u001b[0m\u001b[0;34m(\u001b[0m\u001b[0mfp_or_buf\u001b[0m\u001b[0;34m,\u001b[0m \u001b[0;34m**\u001b[0m\u001b[0mkwds\u001b[0m\u001b[0;34m)\u001b[0m\u001b[0;34m\u001b[0m\u001b[0;34m\u001b[0m\u001b[0m\n\u001b[0m\u001b[1;32m    449\u001b[0m \u001b[0;34m\u001b[0m\u001b[0m\n\u001b[1;32m    450\u001b[0m     \u001b[0;32mif\u001b[0m \u001b[0mchunksize\u001b[0m \u001b[0;32mor\u001b[0m \u001b[0miterator\u001b[0m\u001b[0;34m:\u001b[0m\u001b[0;34m\u001b[0m\u001b[0;34m\u001b[0m\u001b[0m\n",
      "\u001b[0;32m/opt/conda/lib/python3.7/site-packages/pandas/io/parsers.py\u001b[0m in \u001b[0;36m__init__\u001b[0;34m(self, f, engine, **kwds)\u001b[0m\n\u001b[1;32m    878\u001b[0m             \u001b[0mself\u001b[0m\u001b[0;34m.\u001b[0m\u001b[0moptions\u001b[0m\u001b[0;34m[\u001b[0m\u001b[0;34m\"has_index_names\"\u001b[0m\u001b[0;34m]\u001b[0m \u001b[0;34m=\u001b[0m \u001b[0mkwds\u001b[0m\u001b[0;34m[\u001b[0m\u001b[0;34m\"has_index_names\"\u001b[0m\u001b[0;34m]\u001b[0m\u001b[0;34m\u001b[0m\u001b[0;34m\u001b[0m\u001b[0m\n\u001b[1;32m    879\u001b[0m \u001b[0;34m\u001b[0m\u001b[0m\n\u001b[0;32m--> 880\u001b[0;31m         \u001b[0mself\u001b[0m\u001b[0;34m.\u001b[0m\u001b[0m_make_engine\u001b[0m\u001b[0;34m(\u001b[0m\u001b[0mself\u001b[0m\u001b[0;34m.\u001b[0m\u001b[0mengine\u001b[0m\u001b[0;34m)\u001b[0m\u001b[0;34m\u001b[0m\u001b[0;34m\u001b[0m\u001b[0m\n\u001b[0m\u001b[1;32m    881\u001b[0m \u001b[0;34m\u001b[0m\u001b[0m\n\u001b[1;32m    882\u001b[0m     \u001b[0;32mdef\u001b[0m \u001b[0mclose\u001b[0m\u001b[0;34m(\u001b[0m\u001b[0mself\u001b[0m\u001b[0;34m)\u001b[0m\u001b[0;34m:\u001b[0m\u001b[0;34m\u001b[0m\u001b[0;34m\u001b[0m\u001b[0m\n",
      "\u001b[0;32m/opt/conda/lib/python3.7/site-packages/pandas/io/parsers.py\u001b[0m in \u001b[0;36m_make_engine\u001b[0;34m(self, engine)\u001b[0m\n\u001b[1;32m   1112\u001b[0m     \u001b[0;32mdef\u001b[0m \u001b[0m_make_engine\u001b[0m\u001b[0;34m(\u001b[0m\u001b[0mself\u001b[0m\u001b[0;34m,\u001b[0m \u001b[0mengine\u001b[0m\u001b[0;34m=\u001b[0m\u001b[0;34m\"c\"\u001b[0m\u001b[0;34m)\u001b[0m\u001b[0;34m:\u001b[0m\u001b[0;34m\u001b[0m\u001b[0;34m\u001b[0m\u001b[0m\n\u001b[1;32m   1113\u001b[0m         \u001b[0;32mif\u001b[0m \u001b[0mengine\u001b[0m \u001b[0;34m==\u001b[0m \u001b[0;34m\"c\"\u001b[0m\u001b[0;34m:\u001b[0m\u001b[0;34m\u001b[0m\u001b[0;34m\u001b[0m\u001b[0m\n\u001b[0;32m-> 1114\u001b[0;31m             \u001b[0mself\u001b[0m\u001b[0;34m.\u001b[0m\u001b[0m_engine\u001b[0m \u001b[0;34m=\u001b[0m \u001b[0mCParserWrapper\u001b[0m\u001b[0;34m(\u001b[0m\u001b[0mself\u001b[0m\u001b[0;34m.\u001b[0m\u001b[0mf\u001b[0m\u001b[0;34m,\u001b[0m \u001b[0;34m**\u001b[0m\u001b[0mself\u001b[0m\u001b[0;34m.\u001b[0m\u001b[0moptions\u001b[0m\u001b[0;34m)\u001b[0m\u001b[0;34m\u001b[0m\u001b[0;34m\u001b[0m\u001b[0m\n\u001b[0m\u001b[1;32m   1115\u001b[0m         \u001b[0;32melse\u001b[0m\u001b[0;34m:\u001b[0m\u001b[0;34m\u001b[0m\u001b[0;34m\u001b[0m\u001b[0m\n\u001b[1;32m   1116\u001b[0m             \u001b[0;32mif\u001b[0m \u001b[0mengine\u001b[0m \u001b[0;34m==\u001b[0m \u001b[0;34m\"python\"\u001b[0m\u001b[0;34m:\u001b[0m\u001b[0;34m\u001b[0m\u001b[0;34m\u001b[0m\u001b[0m\n",
      "\u001b[0;32m/opt/conda/lib/python3.7/site-packages/pandas/io/parsers.py\u001b[0m in \u001b[0;36m__init__\u001b[0;34m(self, src, **kwds)\u001b[0m\n\u001b[1;32m   1889\u001b[0m         \u001b[0mkwds\u001b[0m\u001b[0;34m[\u001b[0m\u001b[0;34m\"usecols\"\u001b[0m\u001b[0;34m]\u001b[0m \u001b[0;34m=\u001b[0m \u001b[0mself\u001b[0m\u001b[0;34m.\u001b[0m\u001b[0musecols\u001b[0m\u001b[0;34m\u001b[0m\u001b[0;34m\u001b[0m\u001b[0m\n\u001b[1;32m   1890\u001b[0m \u001b[0;34m\u001b[0m\u001b[0m\n\u001b[0;32m-> 1891\u001b[0;31m         \u001b[0mself\u001b[0m\u001b[0;34m.\u001b[0m\u001b[0m_reader\u001b[0m \u001b[0;34m=\u001b[0m \u001b[0mparsers\u001b[0m\u001b[0;34m.\u001b[0m\u001b[0mTextReader\u001b[0m\u001b[0;34m(\u001b[0m\u001b[0msrc\u001b[0m\u001b[0;34m,\u001b[0m \u001b[0;34m**\u001b[0m\u001b[0mkwds\u001b[0m\u001b[0;34m)\u001b[0m\u001b[0;34m\u001b[0m\u001b[0;34m\u001b[0m\u001b[0m\n\u001b[0m\u001b[1;32m   1892\u001b[0m         \u001b[0mself\u001b[0m\u001b[0;34m.\u001b[0m\u001b[0munnamed_cols\u001b[0m \u001b[0;34m=\u001b[0m \u001b[0mself\u001b[0m\u001b[0;34m.\u001b[0m\u001b[0m_reader\u001b[0m\u001b[0;34m.\u001b[0m\u001b[0munnamed_cols\u001b[0m\u001b[0;34m\u001b[0m\u001b[0;34m\u001b[0m\u001b[0m\n\u001b[1;32m   1893\u001b[0m \u001b[0;34m\u001b[0m\u001b[0m\n",
      "\u001b[0;32mpandas/_libs/parsers.pyx\u001b[0m in \u001b[0;36mpandas._libs.parsers.TextReader.__cinit__\u001b[0;34m()\u001b[0m\n",
      "\u001b[0;32mpandas/_libs/parsers.pyx\u001b[0m in \u001b[0;36mpandas._libs.parsers.TextReader._setup_parser_source\u001b[0;34m()\u001b[0m\n",
      "\u001b[0;31mFileNotFoundError\u001b[0m: [Errno 2] File ./data/edc_properties.csv does not exist: './data/edc_properties.csv'"
     ]
    }
   ],
   "source": [
    "%matplotlib notebook\n",
    "import matplotlib.pyplot as plt\n",
    "import pandas as pd\n",
    "\n",
    "filename='./data/edc_properties.csv'\n",
    "edc = pd.read_csv(filename, sep=\",\")\n",
    "\n",
    "avarage_price=sum(edc['price'])/len(edc['price'])\n",
    "avarage_size=sum(edc['areal']/len(edc['areal']))\n",
    "print('\\navarage_price: ',avarage_price, '\\navarage_size: ', avarage_size)\n",
    "\n",
    "\n",
    "a=edc[edc['price']<2000000]\n",
    "b=edc[edc['price'].isin(range(2000000,5000000))]\n",
    "c=edc[edc['price']>=5000000]\n",
    "\n",
    "plt.title(\"Properties by price\", fontsize=12)\n",
    "plt.xlabel(\"Price\", fontsize=10)\n",
    "plt.ylabel(\"Quantity\", fontsize=10)\n",
    "plt.tick_params(axis='both', which='major', labelsize=10)\n",
    "plt.bar(['under 2 mln',' 2-5 mio','over 5 mio'],[len(a),len(b),len(c)],width=0.5, align='center')\n",
    "plt.xticks(rotation=10, horizontalalignment='right',fontweight='light')\n"
   ]
  }
 ],
 "metadata": {
  "kernelspec": {
   "display_name": "Python 3",
   "language": "python",
   "name": "python3"
  },
  "language_info": {
   "codemirror_mode": {
    "name": "ipython",
    "version": 3
   },
   "file_extension": ".py",
   "mimetype": "text/x-python",
   "name": "python",
   "nbconvert_exporter": "python",
   "pygments_lexer": "ipython3",
   "version": "3.7.6"
  }
 },
 "nbformat": 4,
 "nbformat_minor": 4
}
