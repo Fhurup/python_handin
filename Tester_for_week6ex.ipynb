{
 "cells": [
  {
   "cell_type": "code",
   "execution_count": 5,
   "metadata": {},
   "outputs": [],
   "source": [
    "from week6ex import *\n",
    "import matplotlib.pyplot as plt"
   ]
  },
  {
   "cell_type": "code",
   "execution_count": 6,
   "metadata": {},
   "outputs": [
    {
     "name": "stdout",
     "output_type": "stream",
     "text": [
      "1232-0.txt\n",
      "1342-0.txt\n",
      "84-0.txt\n",
      "11-0.txt\n",
      "64812-0.txt\n",
      "2701-0.txt\n",
      "1661-0.txt\n",
      "1080-0.txt\n",
      "98-0.txt\n",
      "pg5200.txt\n",
      "1\n",
      "<generator object Book.urllist_generator at 0x7f0b6d9266d0>\n",
      "https://www.gutenberg.org/files/1232/1232-0.txt\n",
      "https://www.gutenberg.org/files/1342/1342-0.txt\n",
      "https://www.gutenberg.org/files/84/84-0.txt\n",
      "https://www.gutenberg.org/files/11/11-0.txt\n",
      "https://www.gutenberg.org/files/64812/64812-0.txt\n",
      "https://www.gutenberg.org/files/2701/2701-0.txt\n",
      "https://www.gutenberg.org/files/1661/1661-0.txt\n",
      "https://www.gutenberg.org/files/1080/1080-0.txt\n",
      "https://www.gutenberg.org/files/98/98-0.txt\n",
      "https://www.gutenberg.org/cache/epub/5200/pg5200.txt\n",
      "{'1232-0.txt': 1.9112407862407863}\n",
      "{'1080-0.txt': 1.9112407862407863, '64812-0.txt': 1.8718008647890616, '1232-0.txt': 1.8220378923555471, '84-0.txt': 1.8053301246767877, '1342-0.txt': 1.7874750487001274, '2701-0.txt': 1.7629653993505139, '98-0.txt': 1.7242359068054467, 'pg5200.txt': 1.697887715397443, '11-0.txt': 1.6940331230815935, '1661-0.txt': 1.6784848006096484}\n"
     ]
    }
   ],
   "source": [
    "new_book = Book([\"https://www.gutenberg.org/files/1232/1232-0.txt\", \"https://www.gutenberg.org/files/1342/1342-0.txt\",\"https://www.gutenberg.org/files/84/84-0.txt\", \"https://www.gutenberg.org/files/11/11-0.txt\", \"https://www.gutenberg.org/files/64812/64812-0.txt\",\"https://www.gutenberg.org/files/2701/2701-0.txt\",\"https://www.gutenberg.org/files/1661/1661-0.txt\",\"https://www.gutenberg.org/files/1080/1080-0.txt\",\"https://www.gutenberg.org/files/98/98-0.txt\",\"https://www.gutenberg.org/cache/epub/5200/pg5200.txt\"])\n",
    "\n",
    "##print(new_book.avg_vowels(\"1342-0.txt\"))\n",
    "##print(new_book.count_vowels(\"hejAyueiwq\"))\n",
    "\n",
    "hej = new_book.multi_download()\n",
    "for i in new_book:\n",
    "    print(i)\n",
    "print(new_book.counter)\n",
    "urls = new_book.urllist_generator()\n",
    "print(urls)\n",
    "for u in urls:\n",
    "    print(u)\n",
    "\n",
    "print(new_book.hardest())\n",
    "print(new_book.all_hard())\n",
    "\n",
    "##new_book.downloadBook(\"https://www.gutenberg.org/files/1232/1232-0.txt\", \"hedk.txt\")"
   ]
  },
  {
   "cell_type": "code",
   "execution_count": 7,
   "metadata": {},
   "outputs": [
    {
     "data": {
      "text/plain": [
       "<BarContainer object of 10 artists>"
      ]
     },
     "execution_count": 7,
     "metadata": {},
     "output_type": "execute_result"
    },
    {
     "data": {
      "image/png": "[encoded data removed]",
      "text/plain": [
       "<Figure size 432x288 with 1 Axes>"
      ]
     },
     "metadata": {
      "needs_background": "light"
     },
     "output_type": "display_data"
    }
   ],
   "source": [
    "book_dic = new_book.all_hard()\n",
    "\n",
    "keys = book_dic.keys()\n",
    "\n",
    "values = book_dic.values()\n",
    "\n",
    "\n",
    "plt.bar(keys, values)"
   ]
  },
  {
   "cell_type": "code",
   "execution_count": null,
   "metadata": {},
   "outputs": [],
   "source": []
  }
 ],
 "metadata": {
  "kernelspec": {
   "display_name": "Python 3",
   "language": "python",
   "name": "python3"
  },
  "language_info": {
   "codemirror_mode": {
    "name": "ipython",
    "version": 3
   },
   "file_extension": ".py",
   "mimetype": "text/x-python",
   "name": "python",
   "nbconvert_exporter": "python",
   "pygments_lexer": "ipython3",
   "version": "3.7.6"
  }
 },
 "nbformat": 4,
 "nbformat_minor": 4
}
