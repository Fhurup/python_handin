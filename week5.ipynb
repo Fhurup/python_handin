{
 "cells": [
  {
   "cell_type": "code",
   "execution_count": 1,
   "metadata": {},
   "outputs": [],
   "source": [
    "import pandas as pd \n",
    "import numpy as np\n",
    "import matplotlib.pyplot as plt"
   ]
  },
  {
   "cell_type": "code",
   "execution_count": 2,
   "metadata": {},
   "outputs": [],
   "source": [
    "url = \"https://api.statbank.dk/v1/data/FOLK1A/CSV?delimiter=Semicolon&Tid=*&K%C3%98N=TOT&CIVILSTAND=*&OMR%C3%85DE=*\""
   ]
  },
  {
   "cell_type": "code",
   "execution_count": 93,
   "metadata": {},
   "outputs": [
    {
     "data": {
      "text/plain": [
       "<matplotlib.legend.Legend at 0x7f0a17929550>"
      ]
     },
     "execution_count": 93,
     "metadata": {},
     "output_type": "execute_result"
    },
    {
     "data": {
      "image/png": "[encoded data removed]",
      "text/plain": [
       "<Figure size 432x288 with 1 Axes>"
      ]
     },
     "metadata": {
      "needs_background": "light"
     },
     "output_type": "display_data"
    }
   ],
   "source": [
    "dst = pd.read_csv(url,sep=\";\")\n",
    "##dst.columns\n",
    "list(dst['CIVILSTAND'])\n",
    "ug_dk = dst.loc[(dst['CIVILSTAND']=='Ugift')].iloc[:]\n",
    "g_dk = dst.loc[(dst['CIVILSTAND']=='Fraskilt')].iloc[:]\n",
    "h = dst[dst['CIVILSTAND'].isin(['Fraskilt', 'Ugift'])]\n",
    "k = dst.TID.unique()\n",
    "k\n",
    "##print(k)\n",
    "def number_of_people_per_neighbourhood_given_year(mask,n):\n",
    "    sum_of_people = dst.loc[mask & (dst['TID'] == n), 'INDHOLD'].sum()\n",
    "    return sum_of_people\n",
    "\n",
    "fraskilt = (dst['CIVILSTAND'] == 'Fraskilt')\n",
    "fs = [number_of_people_per_neighbourhood_given_year(fraskilt,n) for n in k]\n",
    "##print(fs)\n",
    "\n",
    "nu = ['2020K1','2020K2','2020K3','2020K4']\n",
    "##plt.plot(k, fs)\n",
    "\n",
    "def number_of_lonely(city,n):\n",
    "    ugift = (dst['OMRÅDE'] == city)&(dst['CIVILSTAND'] == 'Ugift')\n",
    "    ugcph = [number_of_people_per_neighbourhood_given_year(ugift,n)]\n",
    "    gift =((dst['OMRÅDE'] == city)&(dst['CIVILSTAND'] != 'Ugift'))\n",
    "    gcph = [number_of_people_per_neighbourhood_given_year(gift,n)]\n",
    "    p = sum(ugcph)/sum(gcph)\n",
    "    return p\n",
    "\n",
    "def Average(lst): \n",
    "    return sum(lst) / len(lst)\n",
    "\n",
    "lscph = [number_of_lonely('København',n) for n in nu]\n",
    "lsAa = [number_of_lonely('Aarhus',n) for n in nu]\n",
    "lsOO = [number_of_lonely('Odense',n) for n in nu]\n",
    "lsAal = [number_of_lonely('Aalborg',n) for n in nu]\n",
    "lsEs = [number_of_lonely('Esbjerg',n) for n in nu]\n",
    "Byer = ['København','Aarhus','Odense','Aalborg','Esbjerg']\n",
    "pLonely = [Average(lscph),Average(lsAa),Average(lsOO),Average(lsAal),Average(lsEs)]\n",
    "\n",
    "##plt.bar(Byer,pLonely)\n",
    "\n",
    "ugiftCPH =((dst['OMRÅDE'] == 'København')&(dst['CIVILSTAND'] == 'Ugift'))\n",
    "ugcphCPH = [number_of_people_per_neighbourhood_given_year(ugiftCPH,n) for n in k]\n",
    "\n",
    "fraCPH =((dst['OMRÅDE'] == 'København')&(dst['CIVILSTAND'] == 'Fraskilt'))\n",
    "fcphCPH = [number_of_people_per_neighbourhood_given_year(fraCPH,n) for n in k]\n",
    "\n",
    "giftCPH =((dst['OMRÅDE'] == 'København')&(dst['CIVILSTAND'] == 'Gift/separeret'))\n",
    "gcphCPH = [number_of_people_per_neighbourhood_given_year(giftCPH,n) for n in k]\n",
    "\n",
    "plt.plot(k, fcphCPH, label=\"fraskilt\")\n",
    "plt.plot(k, ugcphCPH, label=\"ugift\")\n",
    "plt.plot(k, gcphCPH, label=\"Gift/separeret\")\n",
    "plt.legend(loc=\"upper left\")\n",
    "\n"
   ]
  },
  {
   "cell_type": "code",
   "execution_count": null,
   "metadata": {},
   "outputs": [],
   "source": []
  }
 ],
 "metadata": {
  "kernelspec": {
   "display_name": "Python 3",
   "language": "python",
   "name": "python3"
  },
  "language_info": {
   "codemirror_mode": {
    "name": "ipython",
    "version": 3
   },
   "file_extension": ".py",
   "mimetype": "text/x-python",
   "name": "python",
   "nbconvert_exporter": "python",
   "pygments_lexer": "ipython3",
   "version": "3.7.6"
  }
 },
 "nbformat": 4,
 "nbformat_minor": 4
}
